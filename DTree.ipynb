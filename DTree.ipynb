{
 "cells": [
  {
   "cell_type": "code",
   "execution_count": 1,
   "metadata": {},
   "outputs": [],
   "source": [
    "import numpy as np"
   ]
  },
  {
   "cell_type": "code",
   "execution_count": 2,
   "metadata": {},
   "outputs": [],
   "source": [
    "# class Attr provides appropriate storage for attribute data:\n",
    "\n",
    "class Attr:\n",
    "    \n",
    "    vals = np.array([])\n",
    "    places = np.arange(1, 801)\n",
    "    classes = np.array([])\n",
    "    \n",
    "    zeros = 0\n",
    "    ones = 0\n",
    "    \n",
    "    zerovals = np.array([])\n",
    "    onevals = np.array([])\n",
    "    \n",
    "    zeroplaces = np.array([])\n",
    "    oneplaces = np.array([])\n",
    "    \n",
    "    zeroclasses = np.array([])\n",
    "    oneclasses = np.array([])"
   ]
  },
  {
   "cell_type": "code",
   "execution_count": 3,
   "metadata": {},
   "outputs": [],
   "source": [
    "# calculate H (entropy)\n",
    "\n",
    "def entropy(attrs):\n",
    "    \n",
    "    total = np.sum(attrs)\n",
    "    if total == 0:\n",
    "        value = 0\n",
    "    else:\n",
    "        attrs = attrs/total\n",
    "        attrs_log = np.log2(attrs)\n",
    "        attrs = attrs * attrs_log\n",
    "        value = -1 * np.sum(attrs)\n",
    "        \n",
    "    return value\n"
   ]
  },
  {
   "cell_type": "code",
   "execution_count": 4,
   "metadata": {},
   "outputs": [
    {
     "ename": "FileNotFoundError",
     "evalue": "[Errno 2] No such file or directory: 'train.dat'",
     "output_type": "error",
     "traceback": [
      "\u001b[1;31m---------------------------------------------------------------------------\u001b[0m",
      "\u001b[1;31mFileNotFoundError\u001b[0m                         Traceback (most recent call last)",
      "\u001b[1;32m<ipython-input-4-e132281d3511>\u001b[0m in \u001b[0;36m<module>\u001b[1;34m\u001b[0m\n\u001b[0;32m     12\u001b[0m \u001b[1;33m\u001b[0m\u001b[0m\n\u001b[0;32m     13\u001b[0m \u001b[0mfilepath\u001b[0m \u001b[1;33m=\u001b[0m \u001b[1;34m'train.dat'\u001b[0m\u001b[1;33m\u001b[0m\u001b[1;33m\u001b[0m\u001b[0m\n\u001b[1;32m---> 14\u001b[1;33m \u001b[1;32mwith\u001b[0m \u001b[0mopen\u001b[0m\u001b[1;33m(\u001b[0m\u001b[0mfilepath\u001b[0m\u001b[1;33m)\u001b[0m \u001b[1;32mas\u001b[0m \u001b[0mfp\u001b[0m\u001b[1;33m:\u001b[0m\u001b[1;33m\u001b[0m\u001b[1;33m\u001b[0m\u001b[0m\n\u001b[0m\u001b[0;32m     15\u001b[0m     \u001b[0mcount2\u001b[0m \u001b[1;33m=\u001b[0m \u001b[1;36m0\u001b[0m\u001b[1;33m\u001b[0m\u001b[1;33m\u001b[0m\u001b[0m\n\u001b[0;32m     16\u001b[0m     \u001b[1;32mfor\u001b[0m \u001b[0mi\u001b[0m \u001b[1;32min\u001b[0m \u001b[0mrange\u001b[0m\u001b[1;33m(\u001b[0m\u001b[1;36m800\u001b[0m\u001b[1;33m)\u001b[0m\u001b[1;33m:\u001b[0m\u001b[1;33m\u001b[0m\u001b[1;33m\u001b[0m\u001b[0m\n",
      "\u001b[1;31mFileNotFoundError\u001b[0m: [Errno 2] No such file or directory: 'train.dat'"
     ]
    }
   ],
   "source": [
    "# create objects for the 6 attribute (and class) columns to be separated into:\n",
    "\n",
    "wesley = Attr()\n",
    "romulan = Attr()\n",
    "poetry = Attr()\n",
    "honor = Attr()\n",
    "tea = Attr()\n",
    "barclay = Attr()\n",
    "classes = Attr()\n",
    "\n",
    "# read in the data file\n",
    "\n",
    "filepath = 'train.dat'\n",
    "with open(filepath) as fp:\n",
    "    count2 = 0\n",
    "    for i in range(800):\n",
    "        count = 0\n",
    "        line = fp.readline()\n",
    "        for j in range(13):\n",
    "            \n",
    "            # populate 6 attributes with zero and one values:\n",
    "            \n",
    "            if count == 0:\n",
    "                wesley.vals = np.append(wesley.vals, line[count])\n",
    "            elif count == 2:\n",
    "                romulan.vals = np.append(romulan.vals, line[count])\n",
    "            elif count == 4:\n",
    "                poetry.vals = np.append(poetry.vals, line[count])\n",
    "            elif count == 6:\n",
    "                honor.vals = np.append(honor.vals, line[count])\n",
    "            elif count == 8:\n",
    "                tea.vals = np.append(tea.vals, line[count])\n",
    "            elif count == 10:\n",
    "                barclay.vals = np.append(barclay.vals, line[count])\n",
    "                \n",
    "            # populate all Attr.classes with class values:\n",
    "            \n",
    "            elif count == 12:\n",
    "                wesley.classes = np.append(wesley.classes, line[count])\n",
    "                romulan.classes = np.append(romulan.classes, line[count])\n",
    "                poetry.classes = np.append(poetry.classes, line[count])\n",
    "                honor.classes = np.append(honor.classes, line[count])\n",
    "                tea.classes = np.append(tea.classes, line[count])\n",
    "                barclay.classes = np.append(barclay.classes, line[count])\n",
    "                classes.vals = np.append(classes.vals, line[count])\n",
    "                classes.classes = np.append(classes.classes, line[count])\n",
    "            else:\n",
    "                pass\n",
    "            count += 2   \n",
    "            "
   ]
  },
  {
   "cell_type": "code",
   "execution_count": 5,
   "metadata": {},
   "outputs": [],
   "source": [
    "# split attributes into 1 and 0 groups,\n",
    "# retain original subscripts + 1 (places), and original classes:\n",
    "\n",
    "def splitter(attr): \n",
    "    \n",
    "    m = len(attr.vals)\n",
    "    \n",
    "    for i in range(m):\n",
    "        if attr.vals[i] == '0':\n",
    "            attr.zerovals = np.append(attr.zerovals, attr.vals[i])\n",
    "            attr.zeroplaces = np.append(attr.zeroplaces, attr.places[i])\n",
    "            attr.zeroclasses = np.append(attr.zeroclasses, attr.classes[i])\n",
    "            attr.zeros += 1\n",
    "        elif attr.vals[i] == '1':\n",
    "            attr.onevals = np.append(attr.onevals, attr.vals[i])\n",
    "            attr.oneplaces = np.append(attr.oneplaces, attr.places[i])\n",
    "            attr.oneclasses = np.append(attr.oneclasses, attr.classes[i])\n",
    "            attr.ones += 1\n",
    "        else:\n",
    "            pass\n",
    "        "
   ]
  },
  {
   "cell_type": "code",
   "execution_count": 6,
   "metadata": {},
   "outputs": [
    {
     "name": "stdout",
     "output_type": "stream",
     "text": [
      "zeros: 0\n",
      "ones: 0\n",
      "H = 0\n"
     ]
    }
   ],
   "source": [
    "# calculate class entropy:\n",
    "\n",
    "splitter(classes)\n",
    "temp = np.array([classes.ones, classes.zeros])\n",
    "H = entropy(temp)\n",
    "\n",
    "print('zeros: ' + str(classes.zeros))\n",
    "print('ones: ' + str(classes.ones))\n",
    "print('H = ' + str(H))"
   ]
  },
  {
   "cell_type": "code",
   "execution_count": 7,
   "metadata": {},
   "outputs": [],
   "source": [
    "# for each of 6 attributes:\n",
    "\n",
    "#def information_gain(attr):\n",
    "\n",
    "#    Pzeros = zeros/len(attr.zerovals)\n",
    "#    temp0 = np.array([attr.zeroclasses, attr.oneclasses])\n",
    "#    H = entropy(temp0)\n",
    "    \n",
    "#    Pones = zeros/len(attr.onevals)\n",
    "#    temp1 = np.array([attr.oneclasses, attr.oneclasses])\n",
    "#    H = entropy(temp1)"
   ]
  },
  {
   "cell_type": "code",
   "execution_count": null,
   "metadata": {},
   "outputs": [],
   "source": []
  }
 ],
 "metadata": {
  "kernelspec": {
   "display_name": "Python 3",
   "language": "python",
   "name": "python3"
  },
  "language_info": {
   "codemirror_mode": {
    "name": "ipython",
    "version": 3
   },
   "file_extension": ".py",
   "mimetype": "text/x-python",
   "name": "python",
   "nbconvert_exporter": "python",
   "pygments_lexer": "ipython3",
   "version": "3.7.6"
  }
 },
 "nbformat": 4,
 "nbformat_minor": 2
}
